{
 "cells": [
  {
   "cell_type": "code",
   "execution_count": 1,
   "id": "b5a7d45f-e0a0-49b7-afb9-b78288fde594",
   "metadata": {},
   "outputs": [],
   "source": [
    "import os\n",
    "\n",
    "os.environ[\"SPARK_HOME\"] = \"C:\\\\spark\\\\spark-3.5.1-bin-hadoop3\""
   ]
  },
  {
   "cell_type": "code",
   "execution_count": 2,
   "id": "f574ddbd-5b87-4439-8154-a622efefa97b",
   "metadata": {},
   "outputs": [],
   "source": [
    "import findspark\n",
    "findspark.init()"
   ]
  },
  {
   "cell_type": "code",
   "execution_count": 3,
   "id": "95e60faa-f63a-4e5c-b8fb-8708b77c9bd0",
   "metadata": {},
   "outputs": [],
   "source": [
    "from pyspark.sql import SparkSession\n",
    "spark = SparkSession.builder.getOrCreate()"
   ]
  },
  {
   "cell_type": "code",
   "execution_count": 7,
   "id": "e26596ef-08e0-4e52-ac25-5d8ed857b225",
   "metadata": {},
   "outputs": [],
   "source": [
    "import zipfile\n",
    "zipfile.ZipFile('.\\\\data-samples\\\\empresas.zip','r').extractall('.\\\\data-samples')\n",
    "zipfile.ZipFile('.\\\\data-samples\\\\estabelecimentos.zip','r').extractall('.\\\\data-samples')\n",
    "zipfile.ZipFile('.\\\\data-samples\\\\socios.zip','r').extractall('.\\\\data-samples')"
   ]
  },
  {
   "cell_type": "code",
   "execution_count": 4,
   "id": "c6c388fd-8ff4-441f-817e-a7fb7a21a78d",
   "metadata": {},
   "outputs": [
    {
     "data": {
      "text/plain": [
       "4585679"
      ]
     },
     "execution_count": 4,
     "metadata": {},
     "output_type": "execute_result"
    }
   ],
   "source": [
    "path_empresas = '.\\\\data-samples\\\\empresas'\n",
    "empresas = spark.read.csv(path_empresas, sep=';', inferSchema=True)\n",
    "empresas.count()"
   ]
  },
  {
   "cell_type": "code",
   "execution_count": 5,
   "id": "22d149ae-ee19-497e-933a-90a4586d6347",
   "metadata": {},
   "outputs": [
    {
     "data": {
      "text/plain": [
       "4836219"
      ]
     },
     "execution_count": 5,
     "metadata": {},
     "output_type": "execute_result"
    }
   ],
   "source": [
    "path_estabelecimentos = '.\\\\data-samples\\\\estabelecimentos'\n",
    "estabelecimentos = spark.read.csv(path_estabelecimentos, sep=';', inferSchema=True)\n",
    "estabelecimentos.count()"
   ]
  },
  {
   "cell_type": "code",
   "execution_count": 6,
   "id": "1d5193cd-a597-4eac-8668-7293c675ef0a",
   "metadata": {},
   "outputs": [
    {
     "data": {
      "text/plain": [
       "2046430"
      ]
     },
     "execution_count": 6,
     "metadata": {},
     "output_type": "execute_result"
    }
   ],
   "source": [
    "path_socios = '.\\\\data-samples\\\\socios'\n",
    "socios = spark.read.csv(path_socios, sep=';', inferSchema=True)\n",
    "socios.count()"
   ]
  },
  {
   "cell_type": "code",
   "execution_count": 7,
   "id": "006685ab-f3db-4092-a75a-2bfccb1691ab",
   "metadata": {},
   "outputs": [],
   "source": [
    "spark.stop()"
   ]
  },
  {
   "cell_type": "code",
   "execution_count": null,
   "id": "335117a8-4cfc-48a6-95d9-9ebee5eeb57e",
   "metadata": {},
   "outputs": [],
   "source": []
  }
 ],
 "metadata": {
  "kernelspec": {
   "display_name": "Python 3 (ipykernel)",
   "language": "python",
   "name": "python3"
  },
  "language_info": {
   "codemirror_mode": {
    "name": "ipython",
    "version": 3
   },
   "file_extension": ".py",
   "mime